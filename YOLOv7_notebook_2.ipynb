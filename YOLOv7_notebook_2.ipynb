{
 "cells": [
  {
   "cell_type": "code",
   "execution_count": 1,
   "metadata": {
    "colab": {
     "base_uri": "https://localhost:8080/"
    },
    "id": "7tXyhz57Wyre",
    "outputId": "6e1600e7-8ebc-42ec-ee30-2a351e5dffa8"
   },
   "outputs": [
    {
     "name": "stderr",
     "output_type": "stream",
     "text": [
      "Cloning into 'yolov7'...\n"
     ]
    }
   ],
   "source": [
    "!git clone https://github.com/WongKinYiu/yolov7.git"
   ]
  },
  {
   "cell_type": "code",
   "execution_count": 1,
   "metadata": {
    "colab": {
     "base_uri": "https://localhost:8080/"
    },
    "id": "3Cz9N1zyWz4E",
    "outputId": "474cbb99-d66d-40d5-9026-cce8ef751b1b"
   },
   "outputs": [
    {
     "name": "stdout",
     "output_type": "stream",
     "text": [
      "D:\\kng\\yolov7\n",
      "Requirement already satisfied: matplotlib>=3.2.2 in c:\\users\\asus\\anaconda3\\envs\\myenv\\lib\\site-packages (from -r requirements.txt (line 4)) (3.7.5)\n",
      "Requirement already satisfied: numpy<1.24.0,>=1.18.5 in c:\\users\\asus\\anaconda3\\envs\\myenv\\lib\\site-packages (from -r requirements.txt (line 5)) (1.23.5)\n",
      "Requirement already satisfied: opencv-python>=4.1.1 in c:\\users\\asus\\anaconda3\\envs\\myenv\\lib\\site-packages (from -r requirements.txt (line 6)) (4.9.0.80)\n",
      "Requirement already satisfied: Pillow>=7.1.2 in c:\\users\\asus\\anaconda3\\envs\\myenv\\lib\\site-packages (from -r requirements.txt (line 7)) (10.3.0)\n",
      "Requirement already satisfied: PyYAML>=5.3.1 in c:\\users\\asus\\anaconda3\\envs\\myenv\\lib\\site-packages (from -r requirements.txt (line 8)) (6.0.1)\n",
      "Requirement already satisfied: requests>=2.23.0 in c:\\users\\asus\\anaconda3\\envs\\myenv\\lib\\site-packages (from -r requirements.txt (line 9)) (2.31.0)\n",
      "Requirement already satisfied: scipy>=1.4.1 in c:\\users\\asus\\anaconda3\\envs\\myenv\\lib\\site-packages (from -r requirements.txt (line 10)) (1.10.1)\n",
      "Requirement already satisfied: torch!=1.12.0,>=1.7.0 in c:\\users\\asus\\anaconda3\\envs\\myenv\\lib\\site-packages (from -r requirements.txt (line 11)) (2.2.2)\n",
      "Requirement already satisfied: torchvision!=0.13.0,>=0.8.1 in c:\\users\\asus\\anaconda3\\envs\\myenv\\lib\\site-packages (from -r requirements.txt (line 12)) (0.17.2)\n",
      "Requirement already satisfied: tqdm>=4.41.0 in c:\\users\\asus\\anaconda3\\envs\\myenv\\lib\\site-packages (from -r requirements.txt (line 13)) (4.66.2)\n",
      "Requirement already satisfied: protobuf<4.21.3 in c:\\users\\asus\\anaconda3\\envs\\myenv\\lib\\site-packages (from -r requirements.txt (line 14)) (4.21.2)\n",
      "Requirement already satisfied: tensorboard>=2.4.1 in c:\\users\\asus\\anaconda3\\envs\\myenv\\lib\\site-packages (from -r requirements.txt (line 17)) (2.14.0)\n",
      "Requirement already satisfied: pandas>=1.1.4 in c:\\users\\asus\\anaconda3\\envs\\myenv\\lib\\site-packages (from -r requirements.txt (line 21)) (2.0.3)\n",
      "Requirement already satisfied: seaborn>=0.11.0 in c:\\users\\asus\\anaconda3\\envs\\myenv\\lib\\site-packages (from -r requirements.txt (line 22)) (0.13.2)\n",
      "Requirement already satisfied: ipython in c:\\users\\asus\\anaconda3\\envs\\myenv\\lib\\site-packages (from -r requirements.txt (line 34)) (8.12.3)\n",
      "Requirement already satisfied: psutil in c:\\users\\asus\\anaconda3\\envs\\myenv\\lib\\site-packages (from -r requirements.txt (line 35)) (5.9.8)\n",
      "Requirement already satisfied: thop in c:\\users\\asus\\anaconda3\\envs\\myenv\\lib\\site-packages (from -r requirements.txt (line 36)) (0.1.1.post2209072238)\n",
      "Requirement already satisfied: contourpy>=1.0.1 in c:\\users\\asus\\anaconda3\\envs\\myenv\\lib\\site-packages (from matplotlib>=3.2.2->-r requirements.txt (line 4)) (1.1.1)\n",
      "Requirement already satisfied: cycler>=0.10 in c:\\users\\asus\\anaconda3\\envs\\myenv\\lib\\site-packages (from matplotlib>=3.2.2->-r requirements.txt (line 4)) (0.12.1)\n",
      "Requirement already satisfied: fonttools>=4.22.0 in c:\\users\\asus\\anaconda3\\envs\\myenv\\lib\\site-packages (from matplotlib>=3.2.2->-r requirements.txt (line 4)) (4.51.0)\n",
      "Requirement already satisfied: kiwisolver>=1.0.1 in c:\\users\\asus\\anaconda3\\envs\\myenv\\lib\\site-packages (from matplotlib>=3.2.2->-r requirements.txt (line 4)) (1.4.5)\n",
      "Requirement already satisfied: packaging>=20.0 in c:\\users\\asus\\anaconda3\\envs\\myenv\\lib\\site-packages (from matplotlib>=3.2.2->-r requirements.txt (line 4)) (24.0)\n",
      "Requirement already satisfied: pyparsing>=2.3.1 in c:\\users\\asus\\anaconda3\\envs\\myenv\\lib\\site-packages (from matplotlib>=3.2.2->-r requirements.txt (line 4)) (3.1.2)\n",
      "Requirement already satisfied: python-dateutil>=2.7 in c:\\users\\asus\\anaconda3\\envs\\myenv\\lib\\site-packages (from matplotlib>=3.2.2->-r requirements.txt (line 4)) (2.9.0.post0)\n",
      "Requirement already satisfied: importlib-resources>=3.2.0 in c:\\users\\asus\\anaconda3\\envs\\myenv\\lib\\site-packages (from matplotlib>=3.2.2->-r requirements.txt (line 4)) (6.4.0)\n",
      "Requirement already satisfied: charset-normalizer<4,>=2 in c:\\users\\asus\\anaconda3\\envs\\myenv\\lib\\site-packages (from requests>=2.23.0->-r requirements.txt (line 9)) (3.3.2)\n",
      "Requirement already satisfied: idna<4,>=2.5 in c:\\users\\asus\\anaconda3\\envs\\myenv\\lib\\site-packages (from requests>=2.23.0->-r requirements.txt (line 9)) (3.7)\n",
      "Requirement already satisfied: urllib3<3,>=1.21.1 in c:\\users\\asus\\anaconda3\\envs\\myenv\\lib\\site-packages (from requests>=2.23.0->-r requirements.txt (line 9)) (2.2.1)\n",
      "Requirement already satisfied: certifi>=2017.4.17 in c:\\users\\asus\\anaconda3\\envs\\myenv\\lib\\site-packages (from requests>=2.23.0->-r requirements.txt (line 9)) (2024.2.2)\n",
      "Requirement already satisfied: filelock in c:\\users\\asus\\anaconda3\\envs\\myenv\\lib\\site-packages (from torch!=1.12.0,>=1.7.0->-r requirements.txt (line 11)) (3.13.4)\n",
      "Requirement already satisfied: typing-extensions>=4.8.0 in c:\\users\\asus\\anaconda3\\envs\\myenv\\lib\\site-packages (from torch!=1.12.0,>=1.7.0->-r requirements.txt (line 11)) (4.11.0)\n",
      "Requirement already satisfied: sympy in c:\\users\\asus\\anaconda3\\envs\\myenv\\lib\\site-packages (from torch!=1.12.0,>=1.7.0->-r requirements.txt (line 11)) (1.12)\n",
      "Requirement already satisfied: networkx in c:\\users\\asus\\anaconda3\\envs\\myenv\\lib\\site-packages (from torch!=1.12.0,>=1.7.0->-r requirements.txt (line 11)) (3.1)\n",
      "Requirement already satisfied: jinja2 in c:\\users\\asus\\anaconda3\\envs\\myenv\\lib\\site-packages (from torch!=1.12.0,>=1.7.0->-r requirements.txt (line 11)) (3.1.3)\n",
      "Requirement already satisfied: fsspec in c:\\users\\asus\\anaconda3\\envs\\myenv\\lib\\site-packages (from torch!=1.12.0,>=1.7.0->-r requirements.txt (line 11)) (2024.3.1)\n",
      "Requirement already satisfied: colorama in c:\\users\\asus\\anaconda3\\envs\\myenv\\lib\\site-packages (from tqdm>=4.41.0->-r requirements.txt (line 13)) (0.4.6)\n",
      "Requirement already satisfied: absl-py>=0.4 in c:\\users\\asus\\anaconda3\\envs\\myenv\\lib\\site-packages (from tensorboard>=2.4.1->-r requirements.txt (line 17)) (2.1.0)\n",
      "Requirement already satisfied: grpcio>=1.48.2 in c:\\users\\asus\\anaconda3\\envs\\myenv\\lib\\site-packages (from tensorboard>=2.4.1->-r requirements.txt (line 17)) (1.62.2)\n",
      "Requirement already satisfied: google-auth<3,>=1.6.3 in c:\\users\\asus\\anaconda3\\envs\\myenv\\lib\\site-packages (from tensorboard>=2.4.1->-r requirements.txt (line 17)) (2.29.0)\n",
      "Requirement already satisfied: google-auth-oauthlib<1.1,>=0.5 in c:\\users\\asus\\anaconda3\\envs\\myenv\\lib\\site-packages (from tensorboard>=2.4.1->-r requirements.txt (line 17)) (1.0.0)\n",
      "Requirement already satisfied: markdown>=2.6.8 in c:\\users\\asus\\anaconda3\\envs\\myenv\\lib\\site-packages (from tensorboard>=2.4.1->-r requirements.txt (line 17)) (3.6)\n",
      "Requirement already satisfied: setuptools>=41.0.0 in c:\\users\\asus\\anaconda3\\envs\\myenv\\lib\\site-packages (from tensorboard>=2.4.1->-r requirements.txt (line 17)) (68.2.2)\n",
      "Requirement already satisfied: tensorboard-data-server<0.8.0,>=0.7.0 in c:\\users\\asus\\anaconda3\\envs\\myenv\\lib\\site-packages (from tensorboard>=2.4.1->-r requirements.txt (line 17)) (0.7.2)\n",
      "Requirement already satisfied: werkzeug>=1.0.1 in c:\\users\\asus\\anaconda3\\envs\\myenv\\lib\\site-packages (from tensorboard>=2.4.1->-r requirements.txt (line 17)) (3.0.2)\n",
      "Requirement already satisfied: wheel>=0.26 in c:\\users\\asus\\anaconda3\\envs\\myenv\\lib\\site-packages (from tensorboard>=2.4.1->-r requirements.txt (line 17)) (0.41.2)\n",
      "Requirement already satisfied: pytz>=2020.1 in c:\\users\\asus\\anaconda3\\envs\\myenv\\lib\\site-packages (from pandas>=1.1.4->-r requirements.txt (line 21)) (2024.1)\n",
      "Requirement already satisfied: tzdata>=2022.1 in c:\\users\\asus\\anaconda3\\envs\\myenv\\lib\\site-packages (from pandas>=1.1.4->-r requirements.txt (line 21)) (2024.1)\n",
      "Requirement already satisfied: backcall in c:\\users\\asus\\anaconda3\\envs\\myenv\\lib\\site-packages (from ipython->-r requirements.txt (line 34)) (0.2.0)\n",
      "Requirement already satisfied: decorator in c:\\users\\asus\\anaconda3\\envs\\myenv\\lib\\site-packages (from ipython->-r requirements.txt (line 34)) (5.1.1)\n",
      "Requirement already satisfied: jedi>=0.16 in c:\\users\\asus\\anaconda3\\envs\\myenv\\lib\\site-packages (from ipython->-r requirements.txt (line 34)) (0.19.1)\n",
      "Requirement already satisfied: matplotlib-inline in c:\\users\\asus\\anaconda3\\envs\\myenv\\lib\\site-packages (from ipython->-r requirements.txt (line 34)) (0.1.7)\n",
      "Requirement already satisfied: pickleshare in c:\\users\\asus\\anaconda3\\envs\\myenv\\lib\\site-packages (from ipython->-r requirements.txt (line 34)) (0.7.5)\n",
      "Requirement already satisfied: prompt-toolkit!=3.0.37,<3.1.0,>=3.0.30 in c:\\users\\asus\\anaconda3\\envs\\myenv\\lib\\site-packages (from ipython->-r requirements.txt (line 34)) (3.0.43)\n",
      "Requirement already satisfied: pygments>=2.4.0 in c:\\users\\asus\\anaconda3\\envs\\myenv\\lib\\site-packages (from ipython->-r requirements.txt (line 34)) (2.17.2)\n",
      "Requirement already satisfied: stack-data in c:\\users\\asus\\anaconda3\\envs\\myenv\\lib\\site-packages (from ipython->-r requirements.txt (line 34)) (0.6.3)\n",
      "Requirement already satisfied: traitlets>=5 in c:\\users\\asus\\anaconda3\\envs\\myenv\\lib\\site-packages (from ipython->-r requirements.txt (line 34)) (5.14.2)\n",
      "Requirement already satisfied: cachetools<6.0,>=2.0.0 in c:\\users\\asus\\anaconda3\\envs\\myenv\\lib\\site-packages (from google-auth<3,>=1.6.3->tensorboard>=2.4.1->-r requirements.txt (line 17)) (5.3.3)\n",
      "Requirement already satisfied: pyasn1-modules>=0.2.1 in c:\\users\\asus\\anaconda3\\envs\\myenv\\lib\\site-packages (from google-auth<3,>=1.6.3->tensorboard>=2.4.1->-r requirements.txt (line 17)) (0.4.0)\n",
      "Requirement already satisfied: rsa<5,>=3.1.4 in c:\\users\\asus\\anaconda3\\envs\\myenv\\lib\\site-packages (from google-auth<3,>=1.6.3->tensorboard>=2.4.1->-r requirements.txt (line 17)) (4.9)\n",
      "Requirement already satisfied: requests-oauthlib>=0.7.0 in c:\\users\\asus\\anaconda3\\envs\\myenv\\lib\\site-packages (from google-auth-oauthlib<1.1,>=0.5->tensorboard>=2.4.1->-r requirements.txt (line 17)) (2.0.0)\n",
      "Requirement already satisfied: zipp>=3.1.0 in c:\\users\\asus\\anaconda3\\envs\\myenv\\lib\\site-packages (from importlib-resources>=3.2.0->matplotlib>=3.2.2->-r requirements.txt (line 4)) (3.18.1)\n",
      "Requirement already satisfied: parso<0.9.0,>=0.8.3 in c:\\users\\asus\\anaconda3\\envs\\myenv\\lib\\site-packages (from jedi>=0.16->ipython->-r requirements.txt (line 34)) (0.8.4)\n",
      "Requirement already satisfied: importlib-metadata>=4.4 in c:\\users\\asus\\anaconda3\\envs\\myenv\\lib\\site-packages (from markdown>=2.6.8->tensorboard>=2.4.1->-r requirements.txt (line 17)) (7.1.0)\n",
      "Requirement already satisfied: wcwidth in c:\\users\\asus\\anaconda3\\envs\\myenv\\lib\\site-packages (from prompt-toolkit!=3.0.37,<3.1.0,>=3.0.30->ipython->-r requirements.txt (line 34)) (0.2.13)\n",
      "Requirement already satisfied: six>=1.5 in c:\\users\\asus\\anaconda3\\envs\\myenv\\lib\\site-packages (from python-dateutil>=2.7->matplotlib>=3.2.2->-r requirements.txt (line 4)) (1.16.0)\n",
      "Requirement already satisfied: MarkupSafe>=2.1.1 in c:\\users\\asus\\anaconda3\\envs\\myenv\\lib\\site-packages (from werkzeug>=1.0.1->tensorboard>=2.4.1->-r requirements.txt (line 17)) (2.1.5)\n",
      "Requirement already satisfied: executing>=1.2.0 in c:\\users\\asus\\anaconda3\\envs\\myenv\\lib\\site-packages (from stack-data->ipython->-r requirements.txt (line 34)) (2.0.1)\n",
      "Requirement already satisfied: asttokens>=2.1.0 in c:\\users\\asus\\anaconda3\\envs\\myenv\\lib\\site-packages (from stack-data->ipython->-r requirements.txt (line 34)) (2.4.1)\n",
      "Requirement already satisfied: pure-eval in c:\\users\\asus\\anaconda3\\envs\\myenv\\lib\\site-packages (from stack-data->ipython->-r requirements.txt (line 34)) (0.2.2)\n",
      "Requirement already satisfied: mpmath>=0.19 in c:\\users\\asus\\anaconda3\\envs\\myenv\\lib\\site-packages (from sympy->torch!=1.12.0,>=1.7.0->-r requirements.txt (line 11)) (1.3.0)\n",
      "Requirement already satisfied: pyasn1<0.7.0,>=0.4.6 in c:\\users\\asus\\anaconda3\\envs\\myenv\\lib\\site-packages (from pyasn1-modules>=0.2.1->google-auth<3,>=1.6.3->tensorboard>=2.4.1->-r requirements.txt (line 17)) (0.6.0)\n",
      "Requirement already satisfied: oauthlib>=3.0.0 in c:\\users\\asus\\anaconda3\\envs\\myenv\\lib\\site-packages (from requests-oauthlib>=0.7.0->google-auth-oauthlib<1.1,>=0.5->tensorboard>=2.4.1->-r requirements.txt (line 17)) (3.2.2)\n"
     ]
    }
   ],
   "source": [
    "%cd yolov7\n",
    "!pip install -r requirements.txt"
   ]
  },
  {
   "cell_type": "markdown",
   "metadata": {
    "id": "_AIdwFsiZOpM"
   },
   "source": [
    "## Train model\n"
   ]
  },
  {
   "cell_type": "code",
   "execution_count": 8,
   "metadata": {
    "id": "DfsKqBp_ZSdG"
   },
   "outputs": [],
   "source": [
    "# %cd /content/drive/MyDrive/YOLOv7_train\n",
    "# !mkdir train_data\n",
    "# %cd train_data\n",
    "# !mkdir train\n",
    "# !mkdir test\n",
    "# %cd train\n",
    "# !mkdir images\n",
    "# !mkdir labels\n",
    "# %cd ../test\n",
    "# !mkdir images\n",
    "# !mkdir labels"
   ]
  },
  {
   "cell_type": "code",
   "execution_count": 9,
   "metadata": {
    "id": "0ssIpjW5ad_q"
   },
   "outputs": [],
   "source": [
    "# %cd ..\n",
    "# !wget http://images.cocodataset.org/zips/val2017.zip\n",
    "# !wget https://github.com/WongKinYiu/yolov7/releases/download/v0.1/coco2017labels-segments.zip"
   ]
  },
  {
   "cell_type": "code",
   "execution_count": 10,
   "metadata": {
    "id": "hk28u59RlM6f"
   },
   "outputs": [],
   "source": [
    "# !unzip -q val2017.zip -d val2017\n",
    "# !unzip -q coco2017labels-segments.zip -d coco2017labels-segments"
   ]
  },
  {
   "cell_type": "code",
   "execution_count": 11,
   "metadata": {
    "id": "XvM0n8WnlOdL"
   },
   "outputs": [],
   "source": [
    "# %cd val2017/val2017\n",
    "# !mv *.jpg /content/drive/MyDrive/YOLOv7_train/train_data/train/images"
   ]
  },
  {
   "cell_type": "code",
   "execution_count": 12,
   "metadata": {
    "id": "EHJ32F-JlQRR"
   },
   "outputs": [],
   "source": [
    "# %cd /content/drive/MyDrive/YOLOv7_train/train_data/coco2017labels-segments/coco/labels/val2017\n",
    "# !mv *.txt /content/drive/MyDrive/YOLOv7_train/train_data/train/labels"
   ]
  },
  {
   "cell_type": "code",
   "execution_count": 13,
   "metadata": {
    "id": "tflmzFEnstmy"
   },
   "outputs": [],
   "source": [
    "# %cd ../../../.."
   ]
  },
  {
   "cell_type": "code",
   "execution_count": 14,
   "metadata": {
    "id": "jTFCmP0zs0gD"
   },
   "outputs": [],
   "source": [
    "# !rm /content/drive/MyDrive/YOLOv7_train/train_data/val2017.zip\n",
    "# !rm /content/drive/MyDrive/YOLOv7_train/train_data/val2017\n",
    "# !rm /content/drive/MyDrive/YOLOv7_train/train_data/coco2017labels-segments.zip\n",
    "# !rm /content/drive/MyDrive/YOLOv7_train/train_data/coco2017labels-segments"
   ]
  },
  {
   "cell_type": "code",
   "execution_count": 3,
   "metadata": {},
   "outputs": [
    {
     "data": {
      "text/plain": [
       "'D:\\\\kng\\\\yolov7'"
      ]
     },
     "execution_count": 3,
     "metadata": {},
     "output_type": "execute_result"
    }
   ],
   "source": [
    "%pwd"
   ]
  },
  {
   "cell_type": "code",
   "execution_count": 5,
   "metadata": {
    "colab": {
     "base_uri": "https://localhost:8080/"
    },
    "id": "R_YwnyNtXjGO",
    "outputId": "37aa07b1-cb92-439a-9f7c-28917b0f7192"
   },
   "outputs": [
    {
     "name": "stdout",
     "output_type": "stream",
     "text": [
      "\u001b[34m\u001b[1mwandb: \u001b[0mInstall Weights & Biases for YOLOR logging with 'pip install wandb' (recommended)\n",
      "\n",
      "\u001b[34m\u001b[1mautoanchor: \u001b[0mAnalyzing anchors... anchors/target = 4.45, Best Possible Recall (BPR) = 0.9900\n"
     ]
    },
    {
     "name": "stderr",
     "output_type": "stream",
     "text": [
      "YOLOR  v0.1-128-ga207844 torch 2.2.2+cpu CPU\n",
      "\n",
      "Namespace(adam=False, artifact_alias='latest', batch_size=8, bbox_interval=-1, bucket='', cache_images=False, cfg='cfg/training/myyolov7.yaml', data='data/mydataset.yaml', device='', entity=None, epochs=100, evolve=False, exist_ok=False, freeze=[0], global_rank=-1, hyp='data/hyp.scratch.p5.yaml', image_weights=False, img_size=[640, 640], label_smoothing=0.0, linear_lr=False, local_rank=-1, multi_scale=False, name='yolov7-custom', noautoanchor=False, nosave=False, notest=False, project='runs/train', quad=False, rect=False, resume=False, save_dir='runs\\\\train\\\\yolov7-custom2', save_period=-1, single_cls=False, sync_bn=False, total_batch_size=8, upload_dataset=False, v5_metric=False, weights=\"'pretrained/yolov7.pt'\", workers=8, world_size=1)\n",
      "\u001b[34m\u001b[1mtensorboard: \u001b[0mStart with 'tensorboard --logdir runs/train', view at http://localhost:6006/\n",
      "\u001b[34m\u001b[1mhyperparameters: \u001b[0mlr0=0.01, lrf=0.1, momentum=0.937, weight_decay=0.0005, warmup_epochs=3.0, warmup_momentum=0.8, warmup_bias_lr=0.1, box=0.05, cls=0.3, cls_pw=1.0, obj=0.7, obj_pw=1.0, iou_t=0.2, anchor_t=4.0, fl_gamma=0.0, hsv_h=0.015, hsv_s=0.7, hsv_v=0.4, degrees=0.0, translate=0.2, scale=0.9, shear=0.0, perspective=0.0, flipud=0.0, fliplr=0.5, mosaic=1.0, mixup=0.15, copy_paste=0.0, paste_in=0.15, loss_ota=1\n",
      "\n",
      "                 from  n    params  module                                  arguments                     \n",
      "  0                -1  1       928  models.common.Conv                      [3, 32, 3, 1]                 \n",
      "  1                -1  1     18560  models.common.Conv                      [32, 64, 3, 2]                \n",
      "  2                -1  1     36992  models.common.Conv                      [64, 64, 3, 1]                \n",
      "  3                -1  1     73984  models.common.Conv                      [64, 128, 3, 2]               \n",
      "  4                -1  1      8320  models.common.Conv                      [128, 64, 1, 1]               \n",
      "  5                -2  1      8320  models.common.Conv                      [128, 64, 1, 1]               \n",
      "  6                -1  1     36992  models.common.Conv                      [64, 64, 3, 1]                \n",
      "  7                -1  1     36992  models.common.Conv                      [64, 64, 3, 1]                \n",
      "  8                -1  1     36992  models.common.Conv                      [64, 64, 3, 1]                \n",
      "  9                -1  1     36992  models.common.Conv                      [64, 64, 3, 1]                \n",
      " 10  [-1, -3, -5, -6]  1         0  models.common.Concat                    [1]                           \n",
      " 11                -1  1     66048  models.common.Conv                      [256, 256, 1, 1]              \n",
      " 12                -1  1         0  models.common.MP                        []                            \n",
      " 13                -1  1     33024  models.common.Conv                      [256, 128, 1, 1]              \n",
      " 14                -3  1     33024  models.common.Conv                      [256, 128, 1, 1]              \n",
      " 15                -1  1    147712  models.common.Conv                      [128, 128, 3, 2]              \n",
      " 16          [-1, -3]  1         0  models.common.Concat                    [1]                           \n",
      " 17                -1  1     33024  models.common.Conv                      [256, 128, 1, 1]              \n",
      " 18                -2  1     33024  models.common.Conv                      [256, 128, 1, 1]              \n",
      " 19                -1  1    147712  models.common.Conv                      [128, 128, 3, 1]              \n",
      " 20                -1  1    147712  models.common.Conv                      [128, 128, 3, 1]              \n",
      " 21                -1  1    147712  models.common.Conv                      [128, 128, 3, 1]              \n",
      " 22                -1  1    147712  models.common.Conv                      [128, 128, 3, 1]              \n",
      " 23  [-1, -3, -5, -6]  1         0  models.common.Concat                    [1]                           \n",
      " 24                -1  1    263168  models.common.Conv                      [512, 512, 1, 1]              \n",
      " 25                -1  1         0  models.common.MP                        []                            \n",
      " 26                -1  1    131584  models.common.Conv                      [512, 256, 1, 1]              \n",
      " 27                -3  1    131584  models.common.Conv                      [512, 256, 1, 1]              \n",
      " 28                -1  1    590336  models.common.Conv                      [256, 256, 3, 2]              \n",
      " 29          [-1, -3]  1         0  models.common.Concat                    [1]                           \n",
      " 30                -1  1    131584  models.common.Conv                      [512, 256, 1, 1]              \n",
      " 31                -2  1    131584  models.common.Conv                      [512, 256, 1, 1]              \n",
      " 32                -1  1    590336  models.common.Conv                      [256, 256, 3, 1]              \n",
      " 33                -1  1    590336  models.common.Conv                      [256, 256, 3, 1]              \n",
      " 34                -1  1    590336  models.common.Conv                      [256, 256, 3, 1]              \n",
      " 35                -1  1    590336  models.common.Conv                      [256, 256, 3, 1]              \n",
      " 36  [-1, -3, -5, -6]  1         0  models.common.Concat                    [1]                           \n",
      " 37                -1  1   1050624  models.common.Conv                      [1024, 1024, 1, 1]            \n",
      " 38                -1  1         0  models.common.MP                        []                            \n",
      " 39                -1  1    525312  models.common.Conv                      [1024, 512, 1, 1]             \n",
      " 40                -3  1    525312  models.common.Conv                      [1024, 512, 1, 1]             \n",
      " 41                -1  1   2360320  models.common.Conv                      [512, 512, 3, 2]              \n",
      " 42          [-1, -3]  1         0  models.common.Concat                    [1]                           \n",
      " 43                -1  1    262656  models.common.Conv                      [1024, 256, 1, 1]             \n",
      " 44                -2  1    262656  models.common.Conv                      [1024, 256, 1, 1]             \n",
      " 45                -1  1    590336  models.common.Conv                      [256, 256, 3, 1]              \n",
      " 46                -1  1    590336  models.common.Conv                      [256, 256, 3, 1]              \n",
      " 47                -1  1    590336  models.common.Conv                      [256, 256, 3, 1]              \n",
      " 48                -1  1    590336  models.common.Conv                      [256, 256, 3, 1]              \n",
      " 49  [-1, -3, -5, -6]  1         0  models.common.Concat                    [1]                           \n",
      " 50                -1  1   1050624  models.common.Conv                      [1024, 1024, 1, 1]            \n",
      " 51                -1  1   7609344  models.common.SPPCSPC                   [1024, 512, 1]                \n",
      " 52                -1  1    131584  models.common.Conv                      [512, 256, 1, 1]              \n",
      " 53                -1  1         0  torch.nn.modules.upsampling.Upsample    [None, 2, 'nearest']          \n",
      " 54                37  1    262656  models.common.Conv                      [1024, 256, 1, 1]             \n",
      " 55          [-1, -2]  1         0  models.common.Concat                    [1]                           \n",
      " 56                -1  1    131584  models.common.Conv                      [512, 256, 1, 1]              \n",
      " 57                -2  1    131584  models.common.Conv                      [512, 256, 1, 1]              \n",
      " 58                -1  1    295168  models.common.Conv                      [256, 128, 3, 1]              \n",
      " 59                -1  1    147712  models.common.Conv                      [128, 128, 3, 1]              \n",
      " 60                -1  1    147712  models.common.Conv                      [128, 128, 3, 1]              \n",
      " 61                -1  1    147712  models.common.Conv                      [128, 128, 3, 1]              \n",
      " 62[-1, -2, -3, -4, -5, -6]  1         0  models.common.Concat                    [1]                           \n",
      " 63                -1  1    262656  models.common.Conv                      [1024, 256, 1, 1]             \n",
      " 64                -1  1     33024  models.common.Conv                      [256, 128, 1, 1]              \n",
      " 65                -1  1         0  torch.nn.modules.upsampling.Upsample    [None, 2, 'nearest']          \n",
      " 66                24  1     65792  models.common.Conv                      [512, 128, 1, 1]              \n",
      " 67          [-1, -2]  1         0  models.common.Concat                    [1]                           \n",
      " 68                -1  1     33024  models.common.Conv                      [256, 128, 1, 1]              \n",
      " 69                -2  1     33024  models.common.Conv                      [256, 128, 1, 1]              \n",
      " 70                -1  1     73856  models.common.Conv                      [128, 64, 3, 1]               \n",
      " 71                -1  1     36992  models.common.Conv                      [64, 64, 3, 1]                \n",
      " 72                -1  1     36992  models.common.Conv                      [64, 64, 3, 1]                \n",
      " 73                -1  1     36992  models.common.Conv                      [64, 64, 3, 1]                \n",
      " 74[-1, -2, -3, -4, -5, -6]  1         0  models.common.Concat                    [1]                           \n",
      " 75                -1  1     65792  models.common.Conv                      [512, 128, 1, 1]              \n",
      " 76                -1  1         0  models.common.MP                        []                            \n",
      " 77                -1  1     16640  models.common.Conv                      [128, 128, 1, 1]              \n",
      " 78                -3  1     16640  models.common.Conv                      [128, 128, 1, 1]              \n",
      " 79                -1  1    147712  models.common.Conv                      [128, 128, 3, 2]              \n",
      " 80      [-1, -3, 63]  1         0  models.common.Concat                    [1]                           \n",
      " 81                -1  1    131584  models.common.Conv                      [512, 256, 1, 1]              \n",
      " 82                -2  1    131584  models.common.Conv                      [512, 256, 1, 1]              \n",
      " 83                -1  1    295168  models.common.Conv                      [256, 128, 3, 1]              \n",
      " 84                -1  1    147712  models.common.Conv                      [128, 128, 3, 1]              \n",
      " 85                -1  1    147712  models.common.Conv                      [128, 128, 3, 1]              \n",
      " 86                -1  1    147712  models.common.Conv                      [128, 128, 3, 1]              \n",
      " 87[-1, -2, -3, -4, -5, -6]  1         0  models.common.Concat                    [1]                           \n",
      " 88                -1  1    262656  models.common.Conv                      [1024, 256, 1, 1]             \n",
      " 89                -1  1         0  models.common.MP                        []                            \n",
      " 90                -1  1     66048  models.common.Conv                      [256, 256, 1, 1]              \n",
      " 91                -3  1     66048  models.common.Conv                      [256, 256, 1, 1]              \n",
      " 92                -1  1    590336  models.common.Conv                      [256, 256, 3, 2]              \n",
      " 93      [-1, -3, 51]  1         0  models.common.Concat                    [1]                           \n",
      " 94                -1  1    525312  models.common.Conv                      [1024, 512, 1, 1]             \n",
      " 95                -2  1    525312  models.common.Conv                      [1024, 512, 1, 1]             \n",
      " 96                -1  1   1180160  models.common.Conv                      [512, 256, 3, 1]              \n",
      " 97                -1  1    590336  models.common.Conv                      [256, 256, 3, 1]              \n",
      " 98                -1  1    590336  models.common.Conv                      [256, 256, 3, 1]              \n",
      " 99                -1  1    590336  models.common.Conv                      [256, 256, 3, 1]              \n",
      "100[-1, -2, -3, -4, -5, -6]  1         0  models.common.Concat                    [1]                           \n",
      "101                -1  1   1049600  models.common.Conv                      [2048, 512, 1, 1]             \n",
      "102                75  1    328704  models.common.RepConv                   [128, 256, 3, 1]              \n",
      "103                88  1   1312768  models.common.RepConv                   [256, 512, 3, 1]              \n",
      "104               101  1   5246976  models.common.RepConv                   [512, 1024, 3, 1]             \n",
      "105   [102, 103, 104]  1     82702  models.yolo.IDetect                     [10, [[12, 16, 19, 36, 40, 28], [36, 75, 76, 55, 72, 146], [142, 110, 192, 243, 459, 401]], [256, 512, 1024]]\n",
      "106   [102, 103, 104]  1    406342  models.yolo.IDetect                     [70, [[12, 16, 19, 36, 40, 28], [36, 75, 76, 55, 72, 146], [142, 110, 192, 243, 459, 401]], [256, 512, 1024]]\n",
      "C:\\Users\\ASUS\\anaconda3\\envs\\myenv\\lib\\site-packages\\torch\\functional.py:507: UserWarning: torch.meshgrid: in an upcoming release, it will be required to pass the indexing argument. (Triggered internally at C:\\actions-runner\\_work\\pytorch\\pytorch\\builder\\windows\\pytorch\\aten\\src\\ATen\\native\\TensorShape.cpp:3550.)\n",
      "  return _VF.meshgrid(tensors, **kwargs)  # type: ignore[attr-defined]\n",
      "Model Summary: 428 layers, 37651444 parameters, 37651444 gradients\n",
      "\n",
      "Scaled weight_decay = 0.0005\n",
      "Optimizer groups: 98 .bias, 98 conv.weight, 104 other\n",
      "\n",
      "Scanning images:   0%|          | 0/5000 [00:00<?, ?it/s]\n",
      "\u001b[34m\u001b[1mtrain: \u001b[0mScanning '..\\train_data\\train\\labels' images and labels... 53 found, 0 missing, 0 empty, 0 corrupted:   1%|1         | 53/5000 [00:00<00:09, 527.23it/s]\n",
      "\u001b[34m\u001b[1mtrain: \u001b[0mScanning '..\\train_data\\train\\labels' images and labels... 114 found, 0 missing, 0 empty, 0 corrupted:   2%|2         | 114/5000 [00:00<00:08, 571.57it/s]\n",
      "\u001b[34m\u001b[1mtrain: \u001b[0mScanning '..\\train_data\\train\\labels' images and labels... 172 found, 0 missing, 0 empty, 0 corrupted:   3%|3         | 172/5000 [00:00<00:08, 573.40it/s]\n",
      "\u001b[34m\u001b[1mtrain: \u001b[0mScanning '..\\train_data\\train\\labels' images and labels... 231 found, 0 missing, 0 empty, 0 corrupted:   5%|4         | 231/5000 [00:00<00:08, 576.88it/s]\n",
      "\u001b[34m\u001b[1mtrain: \u001b[0mScanning '..\\train_data\\train\\labels' images and labels... 288 found, 1 missing, 0 empty, 0 corrupted:   6%|5         | 289/5000 [00:00<00:08, 560.18it/s]\n",
      "\u001b[34m\u001b[1mtrain: \u001b[0mScanning '..\\train_data\\train\\labels' images and labels... 345 found, 1 missing, 0 empty, 0 corrupted:   7%|6         | 346/5000 [00:00<00:08, 559.31it/s]\n",
      "\u001b[34m\u001b[1mtrain: \u001b[0mScanning '..\\train_data\\train\\labels' images and labels... 400 found, 3 missing, 0 empty, 0 corrupted:   8%|8         | 403/5000 [00:00<00:08, 559.78it/s]\n",
      "\u001b[34m\u001b[1mtrain: \u001b[0mScanning '..\\train_data\\train\\labels' images and labels... 456 found, 4 missing, 0 empty, 0 corrupted:   9%|9         | 460/5000 [00:00<00:08, 554.32it/s]\n",
      "\u001b[34m\u001b[1mtrain: \u001b[0mScanning '..\\train_data\\train\\labels' images and labels... 512 found, 4 missing, 0 empty, 0 corrupted:  10%|#         | 516/5000 [00:00<00:08, 546.43it/s]\n",
      "\u001b[34m\u001b[1mtrain: \u001b[0mScanning '..\\train_data\\train\\labels' images and labels... 567 found, 6 missing, 0 empty, 0 corrupted:  11%|#1        | 573/5000 [00:01<00:08, 552.78it/s]\n",
      "\u001b[34m\u001b[1mtrain: \u001b[0mScanning '..\\train_data\\train\\labels' images and labels... 626 found, 6 missing, 0 empty, 0 corrupted:  13%|#2        | 632/5000 [00:01<00:07, 561.19it/s]\n",
      "\u001b[34m\u001b[1mtrain: \u001b[0mScanning '..\\train_data\\train\\labels' images and labels... 683 found, 6 missing, 0 empty, 0 corrupted:  14%|#3        | 689/5000 [00:01<00:07, 560.15it/s]\n",
      "\u001b[34m\u001b[1mtrain: \u001b[0mScanning '..\\train_data\\train\\labels' images and labels... 741 found, 6 missing, 0 empty, 0 corrupted:  15%|#4        | 747/5000 [00:01<00:07, 565.62it/s]\n",
      "\u001b[34m\u001b[1mtrain: \u001b[0mScanning '..\\train_data\\train\\labels' images and labels... 798 found, 6 missing, 0 empty, 0 corrupted:  16%|#6        | 804/5000 [00:01<00:07, 560.96it/s]\n",
      "\u001b[34m\u001b[1mtrain: \u001b[0mScanning '..\\train_data\\train\\labels' images and labels... 854 found, 7 missing, 0 empty, 0 corrupted:  17%|#7        | 861/5000 [00:01<00:07, 562.09it/s]\n",
      "\u001b[34m\u001b[1mtrain: \u001b[0mScanning '..\\train_data\\train\\labels' images and labels... 911 found, 8 missing, 0 empty, 0 corrupted:  18%|#8        | 919/5000 [00:01<00:07, 566.87it/s]\n",
      "\u001b[34m\u001b[1mtrain: \u001b[0mScanning '..\\train_data\\train\\labels' images and labels... 968 found, 8 missing, 0 empty, 0 corrupted:  20%|#9        | 976/5000 [00:01<00:07, 544.98it/s]\n",
      "\u001b[34m\u001b[1mtrain: \u001b[0mScanning '..\\train_data\\train\\labels' images and labels... 1024 found, 9 missing, 0 empty, 0 corrupted:  21%|##        | 1033/5000 [00:01<00:07, 551.64it/s]\n",
      "\u001b[34m\u001b[1mtrain: \u001b[0mScanning '..\\train_data\\train\\labels' images and labels... 1088 found, 10 missing, 0 empty, 0 corrupted:  22%|##1       | 1098/5000 [00:01<00:06, 579.20it/s]\n",
      "\u001b[34m\u001b[1mtrain: \u001b[0mScanning '..\\train_data\\train\\labels' images and labels... 1147 found, 10 missing, 0 empty, 0 corrupted:  23%|##3       | 1157/5000 [00:02<00:06, 579.58it/s]\n",
      "\u001b[34m\u001b[1mtrain: \u001b[0mScanning '..\\train_data\\train\\labels' images and labels... 1206 found, 10 missing, 0 empty, 0 corrupted:  24%|##4       | 1216/5000 [00:02<00:06, 565.84it/s]\n",
      "\u001b[34m\u001b[1mtrain: \u001b[0mScanning '..\\train_data\\train\\labels' images and labels... 1265 found, 10 missing, 0 empty, 0 corrupted:  26%|##5       | 1275/5000 [00:02<00:06, 571.99it/s]\n",
      "\u001b[34m\u001b[1mtrain: \u001b[0mScanning '..\\train_data\\train\\labels' images and labels... 1323 found, 10 missing, 0 empty, 0 corrupted:  27%|##6       | 1333/5000 [00:02<00:06, 573.26it/s]\n",
      "\u001b[34m\u001b[1mtrain: \u001b[0mScanning '..\\train_data\\train\\labels' images and labels... 1384 found, 10 missing, 0 empty, 0 corrupted:  28%|##7       | 1394/5000 [00:02<00:06, 581.54it/s]\n",
      "\u001b[34m\u001b[1mtrain: \u001b[0mScanning '..\\train_data\\train\\labels' images and labels... 1443 found, 10 missing, 0 empty, 0 corrupted:  29%|##9       | 1453/5000 [00:02<00:06, 575.69it/s]\n",
      "\u001b[34m\u001b[1mtrain: \u001b[0mScanning '..\\train_data\\train\\labels' images and labels... 1502 found, 11 missing, 0 empty, 0 corrupted:  30%|###       | 1513/5000 [00:02<00:06, 581.12it/s]\n",
      "\u001b[34m\u001b[1mtrain: \u001b[0mScanning '..\\train_data\\train\\labels' images and labels... 1560 found, 12 missing, 0 empty, 0 corrupted:  31%|###1      | 1572/5000 [00:02<00:05, 577.90it/s]\n",
      "\u001b[34m\u001b[1mtrain: \u001b[0mScanning '..\\train_data\\train\\labels' images and labels... 1618 found, 12 missing, 0 empty, 0 corrupted:  33%|###2      | 1630/5000 [00:02<00:05, 575.37it/s]\n",
      "\u001b[34m\u001b[1mtrain: \u001b[0mScanning '..\\train_data\\train\\labels' images and labels... 1676 found, 12 missing, 0 empty, 0 corrupted:  34%|###3      | 1688/5000 [00:02<00:05, 562.46it/s]\n",
      "\u001b[34m\u001b[1mtrain: \u001b[0mScanning '..\\train_data\\train\\labels' images and labels... 1732 found, 13 missing, 0 empty, 0 corrupted:  35%|###4      | 1745/5000 [00:03<00:05, 562.01it/s]\n",
      "\u001b[34m\u001b[1mtrain: \u001b[0mScanning '..\\train_data\\train\\labels' images and labels... 1792 found, 14 missing, 0 empty, 0 corrupted:  36%|###6      | 1806/5000 [00:03<00:05, 575.04it/s]\n",
      "\u001b[34m\u001b[1mtrain: \u001b[0mScanning '..\\train_data\\train\\labels' images and labels... 1850 found, 14 missing, 0 empty, 0 corrupted:  37%|###7      | 1864/5000 [00:03<00:05, 573.79it/s]\n",
      "\u001b[34m\u001b[1mtrain: \u001b[0mScanning '..\\train_data\\train\\labels' images and labels... 1908 found, 14 missing, 0 empty, 0 corrupted:  38%|###8      | 1922/5000 [00:03<00:05, 567.83it/s]\n",
      "\u001b[34m\u001b[1mtrain: \u001b[0mScanning '..\\train_data\\train\\labels' images and labels... 1964 found, 15 missing, 0 empty, 0 corrupted:  40%|###9      | 1979/5000 [00:03<00:05, 567.59it/s]\n",
      "\u001b[34m\u001b[1mtrain: \u001b[0mScanning '..\\train_data\\train\\labels' images and labels... 2020 found, 16 missing, 0 empty, 0 corrupted:  41%|####      | 2036/5000 [00:03<00:05, 563.95it/s]\n",
      "\u001b[34m\u001b[1mtrain: \u001b[0mScanning '..\\train_data\\train\\labels' images and labels... 2079 found, 16 missing, 0 empty, 0 corrupted:  42%|####1     | 2095/5000 [00:03<00:05, 570.75it/s]\n",
      "\u001b[34m\u001b[1mtrain: \u001b[0mScanning '..\\train_data\\train\\labels' images and labels... 2136 found, 17 missing, 0 empty, 0 corrupted:  43%|####3     | 2153/5000 [00:03<00:04, 572.62it/s]\n",
      "\u001b[34m\u001b[1mtrain: \u001b[0mScanning '..\\train_data\\train\\labels' images and labels... 2194 found, 17 missing, 0 empty, 0 corrupted:  44%|####4     | 2211/5000 [00:03<00:04, 565.54it/s]\n",
      "\u001b[34m\u001b[1mtrain: \u001b[0mScanning '..\\train_data\\train\\labels' images and labels... 2249 found, 19 missing, 0 empty, 0 corrupted:  45%|####5     | 2268/5000 [00:04<00:04, 564.31it/s]\n",
      "\u001b[34m\u001b[1mtrain: \u001b[0mScanning '..\\train_data\\train\\labels' images and labels... 2304 found, 21 missing, 0 empty, 0 corrupted:  46%|####6     | 2325/5000 [00:04<00:04, 560.17it/s]\n",
      "\u001b[34m\u001b[1mtrain: \u001b[0mScanning '..\\train_data\\train\\labels' images and labels... 2360 found, 22 missing, 0 empty, 0 corrupted:  48%|####7     | 2382/5000 [00:04<00:04, 560.33it/s]\n",
      "\u001b[34m\u001b[1mtrain: \u001b[0mScanning '..\\train_data\\train\\labels' images and labels... 2416 found, 23 missing, 0 empty, 0 corrupted:  49%|####8     | 2439/5000 [00:04<00:04, 546.22it/s]\n",
      "\u001b[34m\u001b[1mtrain: \u001b[0mScanning '..\\train_data\\train\\labels' images and labels... 2472 found, 23 missing, 0 empty, 0 corrupted:  50%|####9     | 2495/5000 [00:04<00:04, 549.30it/s]\n",
      "\u001b[34m\u001b[1mtrain: \u001b[0mScanning '..\\train_data\\train\\labels' images and labels... 2531 found, 23 missing, 0 empty, 0 corrupted:  51%|#####1    | 2554/5000 [00:04<00:04, 558.49it/s]\n",
      "\u001b[34m\u001b[1mtrain: \u001b[0mScanning '..\\train_data\\train\\labels' images and labels... 2591 found, 23 missing, 0 empty, 0 corrupted:  52%|#####2    | 2614/5000 [00:04<00:04, 569.68it/s]\n",
      "\u001b[34m\u001b[1mtrain: \u001b[0mScanning '..\\train_data\\train\\labels' images and labels... 2648 found, 24 missing, 0 empty, 0 corrupted:  53%|#####3    | 2672/5000 [00:04<00:04, 563.42it/s]\n",
      "\u001b[34m\u001b[1mtrain: \u001b[0mScanning '..\\train_data\\train\\labels' images and labels... 2706 found, 26 missing, 0 empty, 0 corrupted:  55%|#####4    | 2732/5000 [00:04<00:03, 573.20it/s]\n",
      "\u001b[34m\u001b[1mtrain: \u001b[0mScanning '..\\train_data\\train\\labels' images and labels... 2765 found, 27 missing, 0 empty, 0 corrupted:  56%|#####5    | 2792/5000 [00:04<00:03, 580.13it/s]\n",
      "\u001b[34m\u001b[1mtrain: \u001b[0mScanning '..\\train_data\\train\\labels' images and labels... 2824 found, 27 missing, 0 empty, 0 corrupted:  57%|#####7    | 2851/5000 [00:05<00:03, 578.70it/s]\n",
      "\u001b[34m\u001b[1mtrain: \u001b[0mScanning '..\\train_data\\train\\labels' images and labels... 2881 found, 28 missing, 0 empty, 0 corrupted:  58%|#####8    | 2909/5000 [00:05<00:03, 574.78it/s]\n",
      "\u001b[34m\u001b[1mtrain: \u001b[0mScanning '..\\train_data\\train\\labels' images and labels... 2939 found, 28 missing, 0 empty, 0 corrupted:  59%|#####9    | 2967/5000 [00:05<00:03, 570.40it/s]\n",
      "\u001b[34m\u001b[1mtrain: \u001b[0mScanning '..\\train_data\\train\\labels' images and labels... 3038 found, 29 missing, 0 empty, 0 corrupted:  61%|######1   | 3067/5000 [00:05<00:02, 695.91it/s]\n",
      "\u001b[34m\u001b[1mtrain: \u001b[0mScanning '..\\train_data\\train\\labels' images and labels... 3149 found, 29 missing, 0 empty, 0 corrupted:  64%|######3   | 3178/5000 [00:05<00:02, 817.69it/s]\n",
      "\u001b[34m\u001b[1mtrain: \u001b[0mScanning '..\\train_data\\train\\labels' images and labels... 3254 found, 31 missing, 0 empty, 0 corrupted:  66%|######5   | 3285/5000 [00:05<00:01, 891.18it/s]\n",
      "\u001b[34m\u001b[1mtrain: \u001b[0mScanning '..\\train_data\\train\\labels' images and labels... 3355 found, 32 missing, 0 empty, 0 corrupted:  68%|######7   | 3387/5000 [00:05<00:01, 926.89it/s]\n",
      "\u001b[34m\u001b[1mtrain: \u001b[0mScanning '..\\train_data\\train\\labels' images and labels... 3459 found, 34 missing, 0 empty, 0 corrupted:  70%|######9   | 3493/5000 [00:05<00:01, 965.06it/s]\n",
      "\u001b[34m\u001b[1mtrain: \u001b[0mScanning '..\\train_data\\train\\labels' images and labels... 3564 found, 34 missing, 0 empty, 0 corrupted:  72%|#######1  | 3598/5000 [00:05<00:01, 985.60it/s]\n",
      "\u001b[34m\u001b[1mtrain: \u001b[0mScanning '..\\train_data\\train\\labels' images and labels... 3666 found, 34 missing, 0 empty, 0 corrupted:  74%|#######4  | 3700/5000 [00:05<00:01, 994.12it/s]\n",
      "\u001b[34m\u001b[1mtrain: \u001b[0mScanning '..\\train_data\\train\\labels' images and labels... 3769 found, 34 missing, 0 empty, 0 corrupted:  76%|#######6  | 3803/5000 [00:06<00:01, 1002.93it/s]\n",
      "\u001b[34m\u001b[1mtrain: \u001b[0mScanning '..\\train_data\\train\\labels' images and labels... 3877 found, 35 missing, 0 empty, 0 corrupted:  78%|#######8  | 3912/5000 [00:06<00:01, 1027.12it/s]\n",
      "\u001b[34m\u001b[1mtrain: \u001b[0mScanning '..\\train_data\\train\\labels' images and labels... 3978 found, 37 missing, 0 empty, 0 corrupted:  80%|########  | 4015/5000 [00:06<00:00, 1026.30it/s]\n",
      "\u001b[34m\u001b[1mtrain: \u001b[0mScanning '..\\train_data\\train\\labels' images and labels... 4081 found, 37 missing, 0 empty, 0 corrupted:  82%|########2 | 4118/5000 [00:06<00:00, 1025.80it/s]\n",
      "\u001b[34m\u001b[1mtrain: \u001b[0mScanning '..\\train_data\\train\\labels' images and labels... 4184 found, 40 missing, 0 empty, 0 corrupted:  84%|########4 | 4224/5000 [00:06<00:00, 1034.28it/s]\n",
      "\u001b[34m\u001b[1mtrain: \u001b[0mScanning '..\\train_data\\train\\labels' images and labels... 4293 found, 40 missing, 0 empty, 0 corrupted:  87%|########6 | 4333/5000 [00:06<00:00, 1048.99it/s]\n",
      "\u001b[34m\u001b[1mtrain: \u001b[0mScanning '..\\train_data\\train\\labels' images and labels... 4397 found, 41 missing, 0 empty, 0 corrupted:  89%|########8 | 4438/5000 [00:06<00:00, 1035.19it/s]\n",
      "\u001b[34m\u001b[1mtrain: \u001b[0mScanning '..\\train_data\\train\\labels' images and labels... 4506 found, 42 missing, 0 empty, 0 corrupted:  91%|######### | 4548/5000 [00:06<00:00, 1052.67it/s]\n",
      "\u001b[34m\u001b[1mtrain: \u001b[0mScanning '..\\train_data\\train\\labels' images and labels... 4610 found, 44 missing, 0 empty, 0 corrupted:  93%|#########3| 4654/5000 [00:06<00:00, 1014.07it/s]\n",
      "\u001b[34m\u001b[1mtrain: \u001b[0mScanning '..\\train_data\\train\\labels' images and labels... 4710 found, 46 missing, 0 empty, 0 corrupted:  95%|#########5| 4756/5000 [00:07<00:00, 883.35it/s] \n",
      "\u001b[34m\u001b[1mtrain: \u001b[0mScanning '..\\train_data\\train\\labels' images and labels... 4800 found, 48 missing, 0 empty, 0 corrupted:  97%|#########6| 4848/5000 [00:07<00:00, 800.78it/s]\n",
      "\u001b[34m\u001b[1mtrain: \u001b[0mScanning '..\\train_data\\train\\labels' images and labels... 4884 found, 48 missing, 0 empty, 0 corrupted:  99%|#########8| 4932/5000 [00:07<00:00, 809.63it/s]\n",
      "\u001b[34m\u001b[1mtrain: \u001b[0mScanning '..\\train_data\\train\\labels' images and labels... 4952 found, 48 missing, 0 empty, 0 corrupted: 100%|##########| 5000/5000 [00:07<00:00, 678.60it/s]\n",
      "\u001b[34m\u001b[1mtrain: \u001b[0mNew cache created: ..\\train_data\\train\\labels.cache\n",
      "\n",
      "\u001b[34m\u001b[1mval: \u001b[0mScanning '..\\train_data\\train\\labels.cache' images and labels... 4952 found, 48 missing, 0 empty, 0 corrupted: 100%|##########| 5000/5000 [00:00<?, ?it/s]\n",
      "\u001b[34m\u001b[1mval: \u001b[0mScanning '..\\train_data\\train\\labels.cache' images and labels... 4952 found, 48 missing, 0 empty, 0 corrupted: 100%|##########| 5000/5000 [00:00<?, ?it/s]\n",
      "Image sizes 640 train, 640 test\n",
      "Using 8 dataloader workers\n",
      "Logging results to runs\\train\\yolov7-custom2\n",
      "Starting training for 100 epochs...\n",
      "\n",
      "     Epoch   gpu_mem       box       obj       cls     total    labels  img_size\n",
      "\n",
      "  0%|          | 0/625 [00:00<?, ?it/s]\n",
      "  0%|          | 0/625 [00:10<?, ?it/s]\n",
      "Traceback (most recent call last):\n",
      "  File \"train.py\", line 616, in <module>\n",
      "    train(hyp, opt, device, tb_writer)\n",
      "  File \"train.py\", line 363, in train\n",
      "    loss, loss_items = compute_loss_ota(pred, targets.to(device), imgs)  # loss scaled by batch_size\n",
      "  File \"D:\\kng\\yolov7\\utils\\loss.py\", line 585, in __call__\n",
      "    bs, as_, gjs, gis, targets, anchors = self.build_targets(p, targets, imgs)\n",
      "  File \"D:\\kng\\yolov7\\utils\\loss.py\", line 719, in build_targets\n",
      "    F.one_hot(this_target[:, 1].to(torch.int64), self.nc)\n",
      "RuntimeError: Class values must be smaller than num_classes.\n"
     ]
    }
   ],
   "source": [
    "!python train.py --batch-size 8 --data data/mydataset.yaml --cfg cfg/training/myyolov7.yaml --epochs 100 --weights 'pretrained/yolov7.pt' --name yolov7-custom"
   ]
  }
 ],
 "metadata": {
  "accelerator": "GPU",
  "colab": {
   "gpuType": "T4",
   "provenance": []
  },
  "kernelspec": {
   "display_name": "Python 3 (ipykernel)",
   "language": "python",
   "name": "python3"
  },
  "language_info": {
   "codemirror_mode": {
    "name": "ipython",
    "version": 3
   },
   "file_extension": ".py",
   "mimetype": "text/x-python",
   "name": "python",
   "nbconvert_exporter": "python",
   "pygments_lexer": "ipython3",
   "version": "3.8.19"
  }
 },
 "nbformat": 4,
 "nbformat_minor": 4
}
